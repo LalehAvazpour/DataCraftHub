{
 "cells": [
  {
   "cell_type": "code",
   "execution_count": 23,
   "id": "7e5e400a",
   "metadata": {},
   "outputs": [],
   "source": [
    "import pandas as pd\n",
    "import matplotlib.pyplot as plt"
   ]
  },
  {
   "cell_type": "code",
   "execution_count": 2,
   "id": "3dc983e1",
   "metadata": {},
   "outputs": [],
   "source": [
    "df = pd.read_csv(\"Customer-Churn-Records.csv\")"
   ]
  },
  {
   "cell_type": "code",
   "execution_count": 4,
   "id": "0665e64f",
   "metadata": {},
   "outputs": [
    {
     "data": {
      "text/html": [
       "<div>\n",
       "<style scoped>\n",
       "    .dataframe tbody tr th:only-of-type {\n",
       "        vertical-align: middle;\n",
       "    }\n",
       "\n",
       "    .dataframe tbody tr th {\n",
       "        vertical-align: top;\n",
       "    }\n",
       "\n",
       "    .dataframe thead th {\n",
       "        text-align: right;\n",
       "    }\n",
       "</style>\n",
       "<table border=\"1\" class=\"dataframe\">\n",
       "  <thead>\n",
       "    <tr style=\"text-align: right;\">\n",
       "      <th></th>\n",
       "      <th>RowNumber</th>\n",
       "      <th>CustomerId</th>\n",
       "      <th>Surname</th>\n",
       "      <th>CreditScore</th>\n",
       "      <th>Geography</th>\n",
       "      <th>Gender</th>\n",
       "      <th>Age</th>\n",
       "      <th>Tenure</th>\n",
       "      <th>Balance</th>\n",
       "      <th>NumOfProducts</th>\n",
       "      <th>HasCrCard</th>\n",
       "      <th>IsActiveMember</th>\n",
       "      <th>EstimatedSalary</th>\n",
       "      <th>Exited</th>\n",
       "      <th>Complain</th>\n",
       "      <th>Satisfaction Score</th>\n",
       "      <th>Card Type</th>\n",
       "      <th>Point Earned</th>\n",
       "    </tr>\n",
       "  </thead>\n",
       "  <tbody>\n",
       "    <tr>\n",
       "      <th>3717</th>\n",
       "      <td>3718</td>\n",
       "      <td>15623536</td>\n",
       "      <td>Madukwe</td>\n",
       "      <td>646</td>\n",
       "      <td>Germany</td>\n",
       "      <td>Male</td>\n",
       "      <td>39</td>\n",
       "      <td>0</td>\n",
       "      <td>154439.86</td>\n",
       "      <td>1</td>\n",
       "      <td>1</td>\n",
       "      <td>0</td>\n",
       "      <td>171519.06</td>\n",
       "      <td>0</td>\n",
       "      <td>0</td>\n",
       "      <td>4</td>\n",
       "      <td>GOLD</td>\n",
       "      <td>422</td>\n",
       "    </tr>\n",
       "    <tr>\n",
       "      <th>6364</th>\n",
       "      <td>6365</td>\n",
       "      <td>15663421</td>\n",
       "      <td>Esposito</td>\n",
       "      <td>527</td>\n",
       "      <td>Spain</td>\n",
       "      <td>Male</td>\n",
       "      <td>28</td>\n",
       "      <td>6</td>\n",
       "      <td>128396.33</td>\n",
       "      <td>2</td>\n",
       "      <td>1</td>\n",
       "      <td>0</td>\n",
       "      <td>79919.97</td>\n",
       "      <td>0</td>\n",
       "      <td>0</td>\n",
       "      <td>5</td>\n",
       "      <td>SILVER</td>\n",
       "      <td>882</td>\n",
       "    </tr>\n",
       "    <tr>\n",
       "      <th>85</th>\n",
       "      <td>86</td>\n",
       "      <td>15805254</td>\n",
       "      <td>Ndukaku</td>\n",
       "      <td>652</td>\n",
       "      <td>Spain</td>\n",
       "      <td>Female</td>\n",
       "      <td>75</td>\n",
       "      <td>10</td>\n",
       "      <td>0.00</td>\n",
       "      <td>2</td>\n",
       "      <td>1</td>\n",
       "      <td>1</td>\n",
       "      <td>114675.75</td>\n",
       "      <td>0</td>\n",
       "      <td>0</td>\n",
       "      <td>5</td>\n",
       "      <td>DIAMOND</td>\n",
       "      <td>651</td>\n",
       "    </tr>\n",
       "    <tr>\n",
       "      <th>9810</th>\n",
       "      <td>9811</td>\n",
       "      <td>15705994</td>\n",
       "      <td>Udinese</td>\n",
       "      <td>712</td>\n",
       "      <td>Spain</td>\n",
       "      <td>Male</td>\n",
       "      <td>27</td>\n",
       "      <td>10</td>\n",
       "      <td>0.00</td>\n",
       "      <td>1</td>\n",
       "      <td>1</td>\n",
       "      <td>0</td>\n",
       "      <td>94544.88</td>\n",
       "      <td>0</td>\n",
       "      <td>0</td>\n",
       "      <td>3</td>\n",
       "      <td>GOLD</td>\n",
       "      <td>410</td>\n",
       "    </tr>\n",
       "    <tr>\n",
       "      <th>6191</th>\n",
       "      <td>6192</td>\n",
       "      <td>15747000</td>\n",
       "      <td>Shih</td>\n",
       "      <td>592</td>\n",
       "      <td>France</td>\n",
       "      <td>Male</td>\n",
       "      <td>27</td>\n",
       "      <td>3</td>\n",
       "      <td>0.00</td>\n",
       "      <td>2</td>\n",
       "      <td>1</td>\n",
       "      <td>1</td>\n",
       "      <td>19645.65</td>\n",
       "      <td>0</td>\n",
       "      <td>0</td>\n",
       "      <td>5</td>\n",
       "      <td>PLATINUM</td>\n",
       "      <td>434</td>\n",
       "    </tr>\n",
       "  </tbody>\n",
       "</table>\n",
       "</div>"
      ],
      "text/plain": [
       "      RowNumber  CustomerId   Surname  CreditScore Geography  Gender  Age  \\\n",
       "3717       3718    15623536   Madukwe          646   Germany    Male   39   \n",
       "6364       6365    15663421  Esposito          527     Spain    Male   28   \n",
       "85           86    15805254   Ndukaku          652     Spain  Female   75   \n",
       "9810       9811    15705994   Udinese          712     Spain    Male   27   \n",
       "6191       6192    15747000      Shih          592    France    Male   27   \n",
       "\n",
       "      Tenure    Balance  NumOfProducts  HasCrCard  IsActiveMember  \\\n",
       "3717       0  154439.86              1          1               0   \n",
       "6364       6  128396.33              2          1               0   \n",
       "85        10       0.00              2          1               1   \n",
       "9810      10       0.00              1          1               0   \n",
       "6191       3       0.00              2          1               1   \n",
       "\n",
       "      EstimatedSalary  Exited  Complain  Satisfaction Score Card Type  \\\n",
       "3717        171519.06       0         0                   4      GOLD   \n",
       "6364         79919.97       0         0                   5    SILVER   \n",
       "85          114675.75       0         0                   5   DIAMOND   \n",
       "9810         94544.88       0         0                   3      GOLD   \n",
       "6191         19645.65       0         0                   5  PLATINUM   \n",
       "\n",
       "      Point Earned  \n",
       "3717           422  \n",
       "6364           882  \n",
       "85             651  \n",
       "9810           410  \n",
       "6191           434  "
      ]
     },
     "execution_count": 4,
     "metadata": {},
     "output_type": "execute_result"
    }
   ],
   "source": [
    "# Show a sample of data to see what we have to work with\n",
    "df.sample(5)"
   ]
  },
  {
   "cell_type": "code",
   "execution_count": 7,
   "id": "4c6e0d17",
   "metadata": {},
   "outputs": [],
   "source": [
    "# drops CID and removes the column and inplace = True, makes the changes directly to the original DataFrame \n",
    "df.drop('CustomerId', axis = 'columns', inplace = True) "
   ]
  },
  {
   "cell_type": "code",
   "execution_count": 13,
   "id": "470bd5aa",
   "metadata": {},
   "outputs": [
    {
     "data": {
      "text/plain": [
       "(10000, 17)"
      ]
     },
     "execution_count": 13,
     "metadata": {},
     "output_type": "execute_result"
    }
   ],
   "source": [
    "df.shape"
   ]
  },
  {
   "cell_type": "code",
   "execution_count": 11,
   "id": "ba06923d",
   "metadata": {},
   "outputs": [
    {
     "data": {
      "text/plain": [
       "RowNumber               int64\n",
       "Surname                object\n",
       "CreditScore             int64\n",
       "Geography              object\n",
       "Gender                 object\n",
       "Age                     int64\n",
       "Tenure                  int64\n",
       "Balance               float64\n",
       "NumOfProducts           int64\n",
       "HasCrCard               int64\n",
       "IsActiveMember          int64\n",
       "EstimatedSalary       float64\n",
       "Exited                  int64\n",
       "Complain                int64\n",
       "Satisfaction Score      int64\n",
       "Card Type              object\n",
       "Point Earned            int64\n",
       "dtype: object"
      ]
     },
     "execution_count": 11,
     "metadata": {},
     "output_type": "execute_result"
    }
   ],
   "source": [
    "# fix data types from object to relevant type\n",
    "# if needed which is not needed here for this dataset\n",
    "# pd.to_numeric(df.something, errors = 'coerce').isnull()\n",
    "df.dtypes"
   ]
  },
  {
   "cell_type": "code",
   "execution_count": 12,
   "id": "e0af1bf6",
   "metadata": {},
   "outputs": [
    {
     "data": {
      "text/plain": [
       "(10000, 17)"
      ]
     },
     "execution_count": 12,
     "metadata": {},
     "output_type": "execute_result"
    }
   ],
   "source": [
    "# Theres are no null or empty calues in our df if there was any we could drop it using something like the following command\n",
    "df1 = df[df.CreditScore!=' ']\n",
    "df1.shape"
   ]
  },
  {
   "cell_type": "code",
   "execution_count": 34,
   "id": "250847c2",
   "metadata": {},
   "outputs": [
    {
     "data": {
      "image/png": "[encoded data removed]",
      "text/plain": [
       "<Figure size 640x480 with 1 Axes>"
      ]
     },
     "metadata": {},
     "output_type": "display_data"
    }
   ],
   "source": [
    "# let's visualize the data to see what we can figure out, let's use Tenure\n",
    "# let's draw the histogram to find who is not leaving and is loyal\n",
    "tenure_churn_loyal = df1[df1.Exited == 0].Tenure # tenure of loyal customers\n",
    "tenure_churn_left = df1[df1.Exited == 1].Tenure # tenure of the ones leaving\n",
    "\n",
    "ax = plt.hist([tenure_churn_loyal, tenure_churn_left], label =['Loyal', 'Left'] )\n",
    "\n",
    "plt.xlabel(\"Tenure (mounths)\", fontsize=16)  \n",
    "plt.ylabel(\"Counts\", fontsize=16)\n",
    "plt.title(\"Customer churn prediction visualization\")\n",
    "plt.legend();"
   ]
  },
  {
   "cell_type": "code",
   "execution_count": 35,
   "id": "3395e2f6",
   "metadata": {},
   "outputs": [
    {
     "data": {
      "image/png": "[encoded data removed]",
      "text/plain": [
       "<Figure size 640x480 with 1 Axes>"
      ]
     },
     "metadata": {},
     "output_type": "display_data"
    }
   ],
   "source": [
    "nop_churn_loyal = df1[df1.Exited == 0].NumOfProducts # tenure of loyal customers\n",
    "nop_churn_left = df1[df1.Exited == 1].NumOfProducts # tenure of the ones leaving\n",
    "\n",
    "ax = plt.hist([nop_churn_loyal, nop_churn_left], label =['Loyal', 'Left'] )\n",
    "\n",
    "plt.xlabel(\"Num Of Products\", fontsize=16)  \n",
    "plt.ylabel(\"Counts\", fontsize=16)\n",
    "plt.title(\"Customer churn prediction visualization\")\n",
    "plt.legend();"
   ]
  },
  {
   "cell_type": "code",
   "execution_count": 36,
   "id": "803073a5",
   "metadata": {},
   "outputs": [
    {
     "data": {
      "image/png": "[encoded data removed]",
      "text/plain": [
       "<Figure size 640x480 with 1 Axes>"
      ]
     },
     "metadata": {},
     "output_type": "display_data"
    }
   ],
   "source": [
    "comp_churn_loyal = df1[df1.Exited == 0].Complain # tenure of loyal customers\n",
    "comp_churn_left = df1[df1.Exited == 1].Complain # tenure of the ones leaving\n",
    "\n",
    "ax = plt.hist([comp_churn_loyal, comp_churn_left], label =['Loyal', 'Left'] )\n",
    "\n",
    "plt.xlabel(\"Num Of Complain\", fontsize=16)  \n",
    "plt.ylabel(\"Counts\", fontsize=16)\n",
    "plt.title(\"Customer churn prediction visualization\")\n",
    "plt.legend();"
   ]
  },
  {
   "cell_type": "markdown",
   "id": "92eb75cf",
   "metadata": {},
   "source": [
    "you can check unique values using following  \n",
    "for col in df1:\n",
    "    print(f'{col}: {df1[col].unique()}') "
   ]
  },
  {
   "cell_type": "code",
   "execution_count": 39,
   "id": "6198277a",
   "metadata": {},
   "outputs": [],
   "source": [
    "df1['Gender'].replace({'Female':1,'Male':0},inplace=True)"
   ]
  },
  {
   "cell_type": "code",
   "execution_count": 41,
   "id": "c54b0684",
   "metadata": {},
   "outputs": [
    {
     "data": {
      "text/plain": [
       "array([1, 0], dtype=int64)"
      ]
     },
     "execution_count": 41,
     "metadata": {},
     "output_type": "execute_result"
    }
   ],
   "source": [
    "df1.Gender.unique()"
   ]
  },
  {
   "cell_type": "code",
   "execution_count": 42,
   "id": "866d20bd",
   "metadata": {},
   "outputs": [
    {
     "data": {
      "text/plain": [
       "Index(['RowNumber', 'Surname', 'CreditScore', 'Gender', 'Age', 'Tenure',\n",
       "       'Balance', 'NumOfProducts', 'HasCrCard', 'IsActiveMember',\n",
       "       'EstimatedSalary', 'Exited', 'Complain', 'Satisfaction Score',\n",
       "       'Point Earned', 'Card Type_DIAMOND', 'Card Type_GOLD',\n",
       "       'Card Type_PLATINUM', 'Card Type_SILVER', 'Geography_France',\n",
       "       'Geography_Germany', 'Geography_Spain'],\n",
       "      dtype='object')"
      ]
     },
     "execution_count": 42,
     "metadata": {},
     "output_type": "execute_result"
    }
   ],
   "source": [
    "# tranform the data with different variable in each col to muliple col with value 0 and 1 for example here we get one col for Gold card memebrs with value 0 for every other card and so on.\n",
    "df2 = pd.get_dummies(data=df1, columns=['Card Type','Geography'])\n",
    "df2.columns"
   ]
  },
  {
   "cell_type": "code",
   "execution_count": 43,
   "id": "3fbf941b",
   "metadata": {},
   "outputs": [
    {
     "data": {
      "text/html": [
       "<div>\n",
       "<style scoped>\n",
       "    .dataframe tbody tr th:only-of-type {\n",
       "        vertical-align: middle;\n",
       "    }\n",
       "\n",
       "    .dataframe tbody tr th {\n",
       "        vertical-align: top;\n",
       "    }\n",
       "\n",
       "    .dataframe thead th {\n",
       "        text-align: right;\n",
       "    }\n",
       "</style>\n",
       "<table border=\"1\" class=\"dataframe\">\n",
       "  <thead>\n",
       "    <tr style=\"text-align: right;\">\n",
       "      <th></th>\n",
       "      <th>RowNumber</th>\n",
       "      <th>Surname</th>\n",
       "      <th>CreditScore</th>\n",
       "      <th>Gender</th>\n",
       "      <th>Age</th>\n",
       "      <th>Tenure</th>\n",
       "      <th>Balance</th>\n",
       "      <th>NumOfProducts</th>\n",
       "      <th>HasCrCard</th>\n",
       "      <th>IsActiveMember</th>\n",
       "      <th>...</th>\n",
       "      <th>Complain</th>\n",
       "      <th>Satisfaction Score</th>\n",
       "      <th>Point Earned</th>\n",
       "      <th>Card Type_DIAMOND</th>\n",
       "      <th>Card Type_GOLD</th>\n",
       "      <th>Card Type_PLATINUM</th>\n",
       "      <th>Card Type_SILVER</th>\n",
       "      <th>Geography_France</th>\n",
       "      <th>Geography_Germany</th>\n",
       "      <th>Geography_Spain</th>\n",
       "    </tr>\n",
       "  </thead>\n",
       "  <tbody>\n",
       "    <tr>\n",
       "      <th>9564</th>\n",
       "      <td>9565</td>\n",
       "      <td>Fiorentino</td>\n",
       "      <td>554</td>\n",
       "      <td>0</td>\n",
       "      <td>42</td>\n",
       "      <td>1</td>\n",
       "      <td>0.00</td>\n",
       "      <td>2</td>\n",
       "      <td>0</td>\n",
       "      <td>1</td>\n",
       "      <td>...</td>\n",
       "      <td>0</td>\n",
       "      <td>2</td>\n",
       "      <td>593</td>\n",
       "      <td>0</td>\n",
       "      <td>1</td>\n",
       "      <td>0</td>\n",
       "      <td>0</td>\n",
       "      <td>0</td>\n",
       "      <td>0</td>\n",
       "      <td>1</td>\n",
       "    </tr>\n",
       "    <tr>\n",
       "      <th>6133</th>\n",
       "      <td>6134</td>\n",
       "      <td>Chiganu</td>\n",
       "      <td>667</td>\n",
       "      <td>1</td>\n",
       "      <td>33</td>\n",
       "      <td>4</td>\n",
       "      <td>127076.68</td>\n",
       "      <td>2</td>\n",
       "      <td>1</td>\n",
       "      <td>0</td>\n",
       "      <td>...</td>\n",
       "      <td>0</td>\n",
       "      <td>5</td>\n",
       "      <td>910</td>\n",
       "      <td>0</td>\n",
       "      <td>0</td>\n",
       "      <td>1</td>\n",
       "      <td>0</td>\n",
       "      <td>0</td>\n",
       "      <td>1</td>\n",
       "      <td>0</td>\n",
       "    </tr>\n",
       "    <tr>\n",
       "      <th>7845</th>\n",
       "      <td>7846</td>\n",
       "      <td>Kao</td>\n",
       "      <td>648</td>\n",
       "      <td>0</td>\n",
       "      <td>34</td>\n",
       "      <td>0</td>\n",
       "      <td>0.00</td>\n",
       "      <td>1</td>\n",
       "      <td>1</td>\n",
       "      <td>1</td>\n",
       "      <td>...</td>\n",
       "      <td>0</td>\n",
       "      <td>1</td>\n",
       "      <td>445</td>\n",
       "      <td>0</td>\n",
       "      <td>0</td>\n",
       "      <td>1</td>\n",
       "      <td>0</td>\n",
       "      <td>1</td>\n",
       "      <td>0</td>\n",
       "      <td>0</td>\n",
       "    </tr>\n",
       "    <tr>\n",
       "      <th>5694</th>\n",
       "      <td>5695</td>\n",
       "      <td>Donaldson</td>\n",
       "      <td>660</td>\n",
       "      <td>1</td>\n",
       "      <td>31</td>\n",
       "      <td>6</td>\n",
       "      <td>172325.67</td>\n",
       "      <td>1</td>\n",
       "      <td>0</td>\n",
       "      <td>1</td>\n",
       "      <td>...</td>\n",
       "      <td>0</td>\n",
       "      <td>4</td>\n",
       "      <td>223</td>\n",
       "      <td>0</td>\n",
       "      <td>0</td>\n",
       "      <td>1</td>\n",
       "      <td>0</td>\n",
       "      <td>1</td>\n",
       "      <td>0</td>\n",
       "      <td>0</td>\n",
       "    </tr>\n",
       "    <tr>\n",
       "      <th>1540</th>\n",
       "      <td>1541</td>\n",
       "      <td>Onwuamaeze</td>\n",
       "      <td>530</td>\n",
       "      <td>0</td>\n",
       "      <td>23</td>\n",
       "      <td>1</td>\n",
       "      <td>137060.88</td>\n",
       "      <td>2</td>\n",
       "      <td>1</td>\n",
       "      <td>1</td>\n",
       "      <td>...</td>\n",
       "      <td>0</td>\n",
       "      <td>2</td>\n",
       "      <td>284</td>\n",
       "      <td>0</td>\n",
       "      <td>1</td>\n",
       "      <td>0</td>\n",
       "      <td>0</td>\n",
       "      <td>0</td>\n",
       "      <td>1</td>\n",
       "      <td>0</td>\n",
       "    </tr>\n",
       "  </tbody>\n",
       "</table>\n",
       "<p>5 rows × 22 columns</p>\n",
       "</div>"
      ],
      "text/plain": [
       "      RowNumber     Surname  CreditScore  Gender  Age  Tenure    Balance  \\\n",
       "9564       9565  Fiorentino          554       0   42       1       0.00   \n",
       "6133       6134     Chiganu          667       1   33       4  127076.68   \n",
       "7845       7846         Kao          648       0   34       0       0.00   \n",
       "5694       5695   Donaldson          660       1   31       6  172325.67   \n",
       "1540       1541  Onwuamaeze          530       0   23       1  137060.88   \n",
       "\n",
       "      NumOfProducts  HasCrCard  IsActiveMember  ...  Complain  \\\n",
       "9564              2          0               1  ...         0   \n",
       "6133              2          1               0  ...         0   \n",
       "7845              1          1               1  ...         0   \n",
       "5694              1          0               1  ...         0   \n",
       "1540              2          1               1  ...         0   \n",
       "\n",
       "      Satisfaction Score  Point Earned  Card Type_DIAMOND  Card Type_GOLD  \\\n",
       "9564                   2           593                  0               1   \n",
       "6133                   5           910                  0               0   \n",
       "7845                   1           445                  0               0   \n",
       "5694                   4           223                  0               0   \n",
       "1540                   2           284                  0               1   \n",
       "\n",
       "      Card Type_PLATINUM  Card Type_SILVER  Geography_France  \\\n",
       "9564                   0                 0                 0   \n",
       "6133                   1                 0                 0   \n",
       "7845                   1                 0                 1   \n",
       "5694                   1                 0                 1   \n",
       "1540                   0                 0                 0   \n",
       "\n",
       "      Geography_Germany  Geography_Spain  \n",
       "9564                  0                1  \n",
       "6133                  1                0  \n",
       "7845                  0                0  \n",
       "5694                  0                0  \n",
       "1540                  1                0  \n",
       "\n",
       "[5 rows x 22 columns]"
      ]
     },
     "execution_count": 43,
     "metadata": {},
     "output_type": "execute_result"
    }
   ],
   "source": [
    "df2.sample(5)"
   ]
  },
  {
   "cell_type": "code",
   "execution_count": 49,
   "id": "ada0cf20",
   "metadata": {},
   "outputs": [],
   "source": [
    "# Scale the data to numbers between zero and 1 so we have normalized values to work with in our model. \n",
    "cols_to_scale = ['CreditScore','Age','Tenure','Balance','EstimatedSalary','NumOfProducts','Satisfaction Score','Point Earned']\n",
    "\n",
    "from sklearn.preprocessing import MinMaxScaler\n",
    "scaler = MinMaxScaler()\n",
    "df2[cols_to_scale] = scaler.fit_transform(df2[cols_to_scale])"
   ]
  },
  {
   "cell_type": "code",
   "execution_count": 47,
   "id": "6047cec0",
   "metadata": {},
   "outputs": [],
   "source": [
    "# Surname is not a defigning feature in predicting loyalty so we drop it out\n",
    "df2.drop('Surname',axis='columns',inplace=True)"
   ]
  },
  {
   "cell_type": "code",
   "execution_count": 50,
   "id": "e892de67",
   "metadata": {},
   "outputs": [
    {
     "name": "stdout",
     "output_type": "stream",
     "text": [
      "RowNumber: [    1     2     3 ...  9998  9999 10000]\n",
      "CreditScore: [0.538 0.516 0.304 0.698 1.    0.59  0.944 0.052 0.302 0.668 0.356 0.294\n",
      " 0.252 0.398 0.57  0.532 0.606 0.474 0.752 0.764 0.572 0.32  0.638 0.992\n",
      " 0.454 0.812 0.442 0.448 0.122 0.482 0.366 0.406 0.34  0.744 0.25  0.28\n",
      " 0.908 0.464 0.244 0.23  0.412 0.968 0.62  0.852 0.958 0.574 0.4   0.696\n",
      " 0.47  0.876 0.61  0.502 0.612 0.75  0.322 0.528 0.784 0.674 0.41  0.506\n",
      " 0.802 0.462 0.77  0.622 0.65  0.776 0.926 0.614 0.508 0.338 0.628 0.656\n",
      " 0.814 0.132 0.63  0.854 0.386 0.312 0.286 0.604 0.8   0.758 0.592 0.594\n",
      " 0.916 0.348 0.838 0.76  0.33  0.846 0.928 0.72  0.126 0.546 0.64  0.544\n",
      " 0.87  0.51  0.258 0.67  0.376 0.424 0.742 0.556 0.636 0.956 0.648 0.55\n",
      " 0.164 0.84  0.816 0.89  0.672 0.878 0.478 0.222 0.468 0.458 0.626 0.664\n",
      " 0.886 0.682 0.27  0.6   0.808 0.37  0.732 0.378 0.712 0.472 0.562 0.734\n",
      " 0.9   0.666 0.708 0.53  0.634 0.268 0.26  0.456 0.324 0.512 0.494 0.856\n",
      " 0.328 0.35  0.73  0.46  0.914 0.342 0.818 0.332 0.722 0.536 0.586 0.642\n",
      " 0.678 0.54  0.652 0.444 0.69  0.484 0.434 0.688 0.394 0.488 0.646 0.52\n",
      " 0.834 0.826 0.724 0.706 0.624 0.618 0.346 0.844 0.39  0.568 0.778 0.842\n",
      " 0.662 0.388 0.692 0.832 0.754 0.686 0.414 0.362 0.296 0.602 0.882 0.766\n",
      " 0.922 0.714 0.728 0.864 0.85  0.898 0.504 0.788 0.476 0.794 0.466 0.554\n",
      " 0.762 0.558 0.176 0.584 0.912 0.248 0.418 0.158 0.66  0.798 0.768 0.588\n",
      " 0.552 0.598 0.91  0.736 0.98  0.56  0.608 0.824 0.436 0.526 0.344 0.774\n",
      " 0.596 0.186 0.58  0.38  0.22  0.486 0.902 0.522 0.904 0.79  0.266 0.68\n",
      " 0.284 0.718 0.71  0.42  0.804 0.702 0.374 0.274 0.492 0.704 0.272 0.748\n",
      " 0.396 0.228 0.88  0.368 0.796 0.288 0.48  0.236 0.318 0.936 0.932 0.372\n",
      " 0.806 0.848 0.542 0.438 0.616 0.896 0.582 0.384 0.684 0.578 0.83  0.44\n",
      " 0.576 0.498 0.564 0.858 0.354 0.428 0.966 0.308 0.984 0.316 0.134 0.496\n",
      " 0.782 0.514 0.822 0.996 0.392 0.178 0.81  0.82  0.352 0.726 0.7   0.632\n",
      " 0.432 0.29  0.676 0.524 0.254 0.154 0.978 0.938 0.74  0.218 0.306 0.548\n",
      " 0.358 0.426 0.264 0.892 0.19  0.792 0.872 0.408 0.644 0.874 0.298 0.988\n",
      " 0.2   0.93  0.976 0.906 0.772 0.566 0.5   0.658 0.334 0.884 0.786 0.276\n",
      " 0.142 0.982 0.716 0.314 0.31  0.212 0.17  0.422 0.336 0.43  0.756 0.868\n",
      " 0.404 0.518 0.828 0.694 0.746 0.402 0.188 0.738 0.292 0.382 0.96  0.924\n",
      " 0.654 0.14  0.49  0.534 0.918 0.3   0.952 0.168 0.326 0.256 0.894 0.026\n",
      " 0.098 0.226 0.86  0.204 0.45  0.974 0.888 0.948 0.156 0.946 0.862 0.998\n",
      " 0.278 0.162 0.214 0.836 0.962 0.018 0.94  0.446 0.452 0.416 0.934 0.198\n",
      " 0.18  0.13  0.942 0.36  0.    0.192 0.15  0.78  0.262 0.866 0.016 0.99\n",
      " 0.202 0.216 0.238 0.146 0.108 0.972 0.246 0.97  0.232 0.282 0.002 0.954\n",
      " 0.986 0.03  0.364 0.128 0.206 0.242 0.102 0.92  0.964 0.24  0.194 0.144\n",
      " 0.95  0.16  0.172 0.152 0.116 0.994 0.136 0.174 0.12  0.208 0.114 0.21\n",
      " 0.224 0.072 0.11  0.066 0.09  0.234 0.166 0.184 0.148 0.196 0.182 0.034\n",
      " 0.124 0.064 0.046 0.138]\n",
      "Gender: [1 0]\n",
      "Age: [0.32432432 0.31081081 0.28378378 0.33783784 0.35135135 0.43243243\n",
      " 0.14864865 0.12162162 0.17567568 0.08108108 0.21621622 0.09459459\n",
      " 0.22972973 0.36486486 0.54054054 0.18918919 0.27027027 0.37837838\n",
      " 0.24324324 0.2027027  0.2972973  0.44594595 0.58108108 0.41891892\n",
      " 0.25675676 0.01351351 0.64864865 0.51351351 0.10810811 0.04054054\n",
      " 0.5        0.77027027 0.05405405 0.16216216 0.13513514 0.63513514\n",
      " 0.40540541 0.45945946 0.52702703 0.74324324 0.39189189 0.48648649\n",
      " 0.72972973 0.02702703 0.66216216 0.82432432 0.59459459 0.47297297\n",
      " 0.83783784 0.55405405 0.67567568 0.06756757 0.56756757 0.7027027\n",
      " 0.60810811 0.62162162 0.         0.86486486 0.68918919 0.75675676\n",
      " 0.71621622 0.78378378 0.7972973  0.94594595 0.90540541 0.89189189\n",
      " 0.81081081 0.85135135 1.         0.87837838]\n",
      "Tenure: [0.2 0.1 0.8 0.7 0.4 0.6 0.3 1.  0.5 0.9 0. ]\n",
      "Balance: [0.         0.33403148 0.63635718 ... 0.22865702 0.29922631 0.51870777]\n",
      "NumOfProducts: [0.         0.66666667 0.33333333 1.        ]\n",
      "HasCrCard: [1 0]\n",
      "IsActiveMember: [1 0]\n",
      "EstimatedSalary: [0.50673489 0.56270874 0.56965435 ... 0.21039009 0.46442905 0.19091423]\n",
      "Exited: [1 0]\n",
      "Complain: [1 0]\n",
      "Satisfaction Score: [0.25 0.5  1.   0.75 0.  ]\n",
      "Point Earned: [0.39160045 0.38251986 0.29284904 0.26220204 0.34733258 0.41430193\n",
      " 0.09875142 0.18501703 0.14982974 0.25312145 0.1645857  0.14755959\n",
      " 0.         0.48808173 0.22587968 0.21452894 0.04994325 0.48240636\n",
      " 0.69580023 0.40635641 0.50964813 0.24631101 0.87173666 0.61975028\n",
      " 0.12031782 0.61293984 0.13280363 0.37343927 0.43132804 0.25425653\n",
      " 0.20317821 0.57775255 0.5584563  0.91146425 0.17820658 0.86038593\n",
      " 0.39954597 0.99318956 0.93643587 0.34052213 0.48354143 0.80476731\n",
      " 0.76049943 0.50851305 0.86833144 0.20090806 0.74914869 0.69353008\n",
      " 0.95459705 0.16912599 0.80590238 0.97956867 0.61066969 0.11577753\n",
      " 0.32576617 0.94778661 0.79909194 0.73779796 0.41089671 0.88989784\n",
      " 0.86606129 0.29511918 0.39727582 0.64018161 0.73893303 0.98297389\n",
      " 0.68785471 0.15891033 0.97616345 0.98637911 0.81044268 0.4631101\n",
      " 0.11464245 0.98070375 0.52553916 0.18388195 0.7707151  0.90578888\n",
      " 0.15437003 0.44494892 0.43019296 0.60385925 0.83200908 0.78093076\n",
      " 0.3984109  0.7185017  0.49943246 0.29057889 0.33144154 0.68444949\n",
      " 0.12712826 0.41884222 0.96027242 0.19296254 0.37457435 0.45516459\n",
      " 0.13053348 0.38479001 0.90351873 0.20431328 0.81611805 0.75709421\n",
      " 0.44267877 0.23723042 0.25879682 0.47105562 0.66969353 0.71509648\n",
      " 0.47900114 0.70034052 0.46538025 0.53916005 0.38933031 0.35187287\n",
      " 0.28490352 0.44381385 0.58910329 0.67990919 0.36095346 0.415437\n",
      " 0.33030647 0.62088536 0.54029512 0.52099886 0.80817253 0.42905789\n",
      " 0.28944381 0.78887628 0.14528944 0.90011351 0.86719637 0.32122588\n",
      " 0.73212259 0.55505108 0.60499432 0.77298524 0.65607264 0.34960272\n",
      " 0.56867196 0.66061294 0.94665153 0.58569807 0.14869467 0.61634506\n",
      " 0.65834279 0.8354143  0.30533485 0.55959137 0.77412032 0.50170261\n",
      " 0.59477866 0.79341657 0.7446084  0.85471056 0.35868331 0.33598184\n",
      " 0.35300795 0.91940976 0.63791146 0.78433598 0.70374574 0.18274688\n",
      " 0.98978434 0.41203178 0.34506243 0.1600454  0.59364359 0.51191827\n",
      " 0.76163451 0.69012486 0.89670829 0.77185017 0.84222474 0.446084\n",
      " 0.40749149 0.56299659 0.2292849  0.68898978 0.45062429 0.59023837\n",
      " 0.14188422 0.19636776 0.1430193  0.82746879 0.97048808 0.9523269\n",
      " 0.57888763 0.21679909 0.56980704 0.91373439 0.27241771 0.78547106\n",
      " 0.52667423 0.95346198 0.8876277  0.69239501 0.723042   0.85584563\n",
      " 0.84676504 0.64812713 0.47219069 0.52326901 0.92054484 0.93530079\n",
      " 0.14642452 0.73098751 0.56753689 0.79001135 0.50737798 0.74347333\n",
      " 0.6538025  0.88876277 0.46878547 0.88081725 0.24290579 0.84790011\n",
      " 0.62656073 0.62542565 0.73666288 0.50624291 0.41316686 0.91600454\n",
      " 0.92281498 0.88535755 0.39500568 0.67877412 0.67763905 0.60272418\n",
      " 0.65153235 0.72644722 0.93870602 0.39273553 0.54597049 0.2122588\n",
      " 0.71282633 0.3461975  0.90124858 0.71736663 0.11350738 0.53121453\n",
      " 0.18047673 0.46197503 0.58229285 0.20658343 0.77979569 0.50397276\n",
      " 0.62429058 0.45175936 0.62883087 0.78320091 0.38706016 0.74687855\n",
      " 0.81498297 0.7014756  0.41657208 0.15096481 0.17707151 0.27468785\n",
      " 0.26447219 0.24744608 0.54256527 0.29738933 0.62315551 0.42678774\n",
      " 0.29398411 0.69466515 0.12599319 0.90805902 0.59250851 0.38365494\n",
      " 0.82860386 0.68217934 0.22474461 0.17026107 0.30874007 0.28830874\n",
      " 0.13393871 0.59704881 0.57321226 0.11918275 0.68558456 0.96935301\n",
      " 0.39046538 0.15209989 0.138479   0.47446084 0.24177072 0.30760499\n",
      " 0.13734393 0.97502838 0.28036322 0.26901249 0.89443814 0.64472191\n",
      " 0.66288309 0.52213394 0.76503973 0.19523269 0.94438138 0.94551646\n",
      " 0.56413167 0.66628831 0.49148695 0.26333712 0.89330306 0.87060159\n",
      " 0.35414302 0.27582293 0.21566402 0.44721907 0.2077185  0.83881952\n",
      " 0.48127128 0.9307605  0.76958002 0.70828604 0.73552781 0.14415437\n",
      " 0.40976163 0.66855846 0.80363224 0.39614075 0.45856981 0.50056754\n",
      " 0.46651532 0.2814983  0.31101022 0.84108967 0.51872872 0.31441544\n",
      " 0.8569807  0.63677639 0.22701476 0.75141884 0.90692395 0.25085131\n",
      " 0.57434733 0.91259932 0.8399546  0.7661748  0.66174801 0.79114642\n",
      " 0.32349603 0.9738933  0.34846765 0.28263337 0.16118048 0.56186152\n",
      " 0.73325766 0.95573212 0.25652667 0.23950057 0.84449489 0.28603859\n",
      " 0.92849035 0.95005675 0.42792281 0.91713961 0.4892168  0.34165721\n",
      " 0.72758229 0.43246311 0.82973893 0.63450624 0.48581158 0.13507378\n",
      " 0.22133939 0.15664018 0.47786606 0.24063564 0.7877412  0.1816118\n",
      " 0.64245176 0.88422247 0.3938706  0.72417707 0.37911464 0.65266742\n",
      " 0.20998865 0.58342792 0.98751419 0.92735528 0.64699205 0.16799092\n",
      " 0.56072645 0.52894438 0.37797957 0.27128263 0.7400681  0.2553916\n",
      " 0.3246311  0.32803632 0.43586833 0.86492622 0.72531215 0.276958\n",
      " 0.96481271 0.32236095 0.97729852 0.1861521  0.26674234 0.92962543\n",
      " 0.71963678 0.70715096 0.82292849 0.74574347 0.78660613 0.59931896\n",
      " 0.81725312 0.82633371 0.92508513 0.60953462 0.78206583 0.46083995\n",
      " 0.71169126 0.15777526 0.7922815  0.33938706 0.29625426 0.94892168\n",
      " 0.17593644 0.38138479 0.37684449 0.54937571 0.61407491 0.51986379\n",
      " 0.80022701 0.37003405 0.53348468 0.89557321 0.31328036 0.861521\n",
      " 0.74801362 0.12485812 0.81157775 0.16572077 0.79455165 0.99091941\n",
      " 0.36889898 0.2338252  0.6492622  0.91032917 0.24517594 0.61520999\n",
      " 0.50283768 0.87287174 0.20544835 0.85130533 0.89784336 0.44948922\n",
      " 0.5368899  0.40408627 0.21339387 0.73439274 0.50510783 0.63337117\n",
      " 0.19182747 0.45289444 0.6061294  0.55278093 0.76390465 0.23496027\n",
      " 0.45743473 0.71396141 0.54824064 0.38592509 0.5323496  0.42565267\n",
      " 0.15550511 0.61861521 0.79682179 0.1906924  0.57207719 0.95800227\n",
      " 0.66515323 0.45402951 0.74233825 0.83427923 0.15323496 0.9262202\n",
      " 0.90238365 0.47673099 0.17934166 0.69920545 0.28376844 0.70488082\n",
      " 0.38819523 0.23836549 0.96594779 0.91486947 0.37116913 0.44835414\n",
      " 0.67196368 0.77752554 0.98524404 0.2599319  0.64358683 0.25198638\n",
      " 0.65039728 0.33825199 0.43927355 0.13961407 0.23155505 0.68104427\n",
      " 0.54143019 0.28717367 0.54483541 0.49829739 0.76844495 0.34279228\n",
      " 0.70261067 0.75028377 0.38024972 0.27922815 0.60726447 0.92395006\n",
      " 0.5153235  0.68331442 0.35754824 0.55732123 0.37570942 0.77525539\n",
      " 0.58115778 0.77866061 0.40522134 0.8830874  0.17480136 0.35641317\n",
      " 0.41770715 0.12939841 0.77639047 0.97162316 0.31555051 0.94097616\n",
      " 0.64131669 0.67650397 0.31895573 0.16345062 0.62202043 0.99659478\n",
      " 0.52440409 0.76730988 0.33371169 0.75936436 0.86946652 0.20204313\n",
      " 0.49262202 0.46424518 0.81271283 0.40862656 0.3677639  0.6322361\n",
      " 0.87854711 0.3291714  0.23269012 0.79795687 0.3723042  0.84903519\n",
      " 0.40181612 0.80703746 0.48013621 0.29965948 0.4415437  0.29171396\n",
      " 0.85811578 0.59591373 0.66401816 0.91827469 0.43700341 0.21906924\n",
      " 0.75482406 0.6276958  0.82519864 0.93757094 0.69125993 0.9784336\n",
      " 0.55618615 0.27355278 0.49489217 0.66742338 0.85925085 0.75368899\n",
      " 0.35981839 0.61748014 0.6753689  0.43813848 0.36322361 0.87968218\n",
      " 0.22814983 0.11804767 0.9568672  0.8138479  0.44040863 0.60839955\n",
      " 0.65493757 0.16685585 0.82406356 0.94324631 0.23041998 0.81952327\n",
      " 0.6015891  0.58683314 0.42111237 0.40295119 0.4846765  0.19977299\n",
      " 0.82065834 0.27014756 0.76276958 0.8183882  0.63564132 0.87741203\n",
      " 0.88649262 0.98864926 0.93416572 0.33711691 0.80249716 0.94211124\n",
      " 0.70942111 0.14074915 0.64585698 0.31668558 0.9046538  0.51418842\n",
      " 1.         0.51645857 0.53575482 0.62996595 0.26560726 0.85244041\n",
      " 0.93189557 0.99205448 0.82179342 0.99772985 0.40068104 0.89216799\n",
      " 0.6708286  0.46992054 0.75595914 0.24404086 0.54370034 0.23609535\n",
      " 0.12826334 0.53007946 0.12145289 0.21112372 0.98183882 0.584563\n",
      " 0.53802497 0.30646992 0.47559591 0.99432463 0.56640182 0.68671964\n",
      " 0.52780931 0.87400681 0.67309875 0.20885358 0.6969353  0.9091941\n",
      " 0.72871737 0.18842225 0.95913734 0.21793417 0.89897843 0.43359818\n",
      " 0.83087401 0.96821793 0.36435868 0.25766175 0.13620885 0.71623156\n",
      " 0.42451759 0.18728717 0.70601589 0.54710556 0.24858116 0.61180477\n",
      " 0.85357548 0.92167991 0.99886493 0.17253121 0.43473326 0.65947787\n",
      " 0.47332577 0.57548241 0.95119183 0.3507378  0.96140749 0.96367764\n",
      " 0.22020431 0.12258797 0.58796822 0.83654938 0.35527809 0.65720772\n",
      " 0.88195233 0.98410897 0.33257662 0.30192963 0.97275823 0.53461975\n",
      " 0.45970488 0.32690125 0.80136209 0.89103292 0.51759364 0.69807037\n",
      " 0.48694665 0.4199773  0.85017026 0.86265607 0.63110102 0.60045403\n",
      " 0.83314415 0.59137344 0.8093076  0.57094211 0.30079455 0.57661748\n",
      " 0.36549376 0.45629966 0.96254257 0.553916   0.24971623 0.86379115\n",
      " 0.27809308 0.63904654 0.49602724 0.32009081 0.72985244 0.84562997\n",
      " 0.84335982 0.93984109 0.55051078 0.19750284 0.87514188 0.36662883\n",
      " 0.87627696 0.31214529 0.5107832  0.22360953 0.1169126  0.75255392\n",
      " 0.36208854 0.5800227  0.30419977 0.49035187 0.22247446 0.3030647\n",
      " 0.72190692 0.49716232 0.26106697 0.55164586 0.72077185 0.74120318\n",
      " 0.56526674 0.16231555 0.42338252 0.31782066 0.17366629 0.2985244\n",
      " 0.49375709 0.96708286 0.4676504  0.83768445 0.18955732 0.42224745\n",
      " 0.19409762 0.93303065 0.17139614 0.19863791 0.75822928 0.34392736\n",
      " 0.13166856 0.26787741 0.59818388 0.51305335 0.30987514 0.79568672\n",
      " 0.33484677 0.71055619 0.67423383 0.12372304 0.9954597 ]\n",
      "Card Type_DIAMOND: [1 0]\n",
      "Card Type_GOLD: [0 1]\n",
      "Card Type_PLATINUM: [0 1]\n",
      "Card Type_SILVER: [0 1]\n",
      "Geography_France: [1 0]\n",
      "Geography_Germany: [0 1]\n",
      "Geography_Spain: [0 1]\n"
     ]
    }
   ],
   "source": [
    "# Show unique values and make sure they are zero to one\n",
    "for col in df2:\n",
    "    print(f'{col}: {df2[col].unique()}')"
   ]
  },
  {
   "cell_type": "code",
   "execution_count": 51,
   "id": "45daf56d",
   "metadata": {},
   "outputs": [
    {
     "data": {
      "text/html": [
       "<div>\n",
       "<style scoped>\n",
       "    .dataframe tbody tr th:only-of-type {\n",
       "        vertical-align: middle;\n",
       "    }\n",
       "\n",
       "    .dataframe tbody tr th {\n",
       "        vertical-align: top;\n",
       "    }\n",
       "\n",
       "    .dataframe thead th {\n",
       "        text-align: right;\n",
       "    }\n",
       "</style>\n",
       "<table border=\"1\" class=\"dataframe\">\n",
       "  <thead>\n",
       "    <tr style=\"text-align: right;\">\n",
       "      <th></th>\n",
       "      <th>RowNumber</th>\n",
       "      <th>CreditScore</th>\n",
       "      <th>Gender</th>\n",
       "      <th>Age</th>\n",
       "      <th>Tenure</th>\n",
       "      <th>Balance</th>\n",
       "      <th>NumOfProducts</th>\n",
       "      <th>HasCrCard</th>\n",
       "      <th>IsActiveMember</th>\n",
       "      <th>EstimatedSalary</th>\n",
       "      <th>...</th>\n",
       "      <th>Complain</th>\n",
       "      <th>Satisfaction Score</th>\n",
       "      <th>Point Earned</th>\n",
       "      <th>Card Type_DIAMOND</th>\n",
       "      <th>Card Type_GOLD</th>\n",
       "      <th>Card Type_PLATINUM</th>\n",
       "      <th>Card Type_SILVER</th>\n",
       "      <th>Geography_France</th>\n",
       "      <th>Geography_Germany</th>\n",
       "      <th>Geography_Spain</th>\n",
       "    </tr>\n",
       "  </thead>\n",
       "  <tbody>\n",
       "    <tr>\n",
       "      <th>4319</th>\n",
       "      <td>4320</td>\n",
       "      <td>0.518</td>\n",
       "      <td>0</td>\n",
       "      <td>0.216216</td>\n",
       "      <td>0.7</td>\n",
       "      <td>0.560765</td>\n",
       "      <td>0.333333</td>\n",
       "      <td>1</td>\n",
       "      <td>0</td>\n",
       "      <td>0.231297</td>\n",
       "      <td>...</td>\n",
       "      <td>0</td>\n",
       "      <td>0.50</td>\n",
       "      <td>0.688990</td>\n",
       "      <td>1</td>\n",
       "      <td>0</td>\n",
       "      <td>0</td>\n",
       "      <td>0</td>\n",
       "      <td>0</td>\n",
       "      <td>0</td>\n",
       "      <td>1</td>\n",
       "    </tr>\n",
       "    <tr>\n",
       "      <th>9444</th>\n",
       "      <td>9445</td>\n",
       "      <td>0.462</td>\n",
       "      <td>0</td>\n",
       "      <td>0.310811</td>\n",
       "      <td>0.2</td>\n",
       "      <td>0.509823</td>\n",
       "      <td>0.333333</td>\n",
       "      <td>1</td>\n",
       "      <td>1</td>\n",
       "      <td>0.220993</td>\n",
       "      <td>...</td>\n",
       "      <td>0</td>\n",
       "      <td>0.25</td>\n",
       "      <td>0.435868</td>\n",
       "      <td>0</td>\n",
       "      <td>0</td>\n",
       "      <td>0</td>\n",
       "      <td>1</td>\n",
       "      <td>0</td>\n",
       "      <td>1</td>\n",
       "      <td>0</td>\n",
       "    </tr>\n",
       "    <tr>\n",
       "      <th>9468</th>\n",
       "      <td>9469</td>\n",
       "      <td>0.526</td>\n",
       "      <td>1</td>\n",
       "      <td>0.364865</td>\n",
       "      <td>0.9</td>\n",
       "      <td>0.569017</td>\n",
       "      <td>0.333333</td>\n",
       "      <td>1</td>\n",
       "      <td>0</td>\n",
       "      <td>0.173707</td>\n",
       "      <td>...</td>\n",
       "      <td>0</td>\n",
       "      <td>0.50</td>\n",
       "      <td>0.599319</td>\n",
       "      <td>0</td>\n",
       "      <td>0</td>\n",
       "      <td>0</td>\n",
       "      <td>1</td>\n",
       "      <td>0</td>\n",
       "      <td>1</td>\n",
       "      <td>0</td>\n",
       "    </tr>\n",
       "    <tr>\n",
       "      <th>4088</th>\n",
       "      <td>4089</td>\n",
       "      <td>0.810</td>\n",
       "      <td>0</td>\n",
       "      <td>0.297297</td>\n",
       "      <td>0.2</td>\n",
       "      <td>0.547756</td>\n",
       "      <td>0.333333</td>\n",
       "      <td>0</td>\n",
       "      <td>0</td>\n",
       "      <td>0.883869</td>\n",
       "      <td>...</td>\n",
       "      <td>0</td>\n",
       "      <td>0.00</td>\n",
       "      <td>0.317821</td>\n",
       "      <td>0</td>\n",
       "      <td>0</td>\n",
       "      <td>0</td>\n",
       "      <td>1</td>\n",
       "      <td>0</td>\n",
       "      <td>1</td>\n",
       "      <td>0</td>\n",
       "    </tr>\n",
       "    <tr>\n",
       "      <th>2763</th>\n",
       "      <td>2764</td>\n",
       "      <td>0.712</td>\n",
       "      <td>1</td>\n",
       "      <td>0.391892</td>\n",
       "      <td>0.6</td>\n",
       "      <td>0.480760</td>\n",
       "      <td>0.000000</td>\n",
       "      <td>1</td>\n",
       "      <td>1</td>\n",
       "      <td>0.704028</td>\n",
       "      <td>...</td>\n",
       "      <td>0</td>\n",
       "      <td>1.00</td>\n",
       "      <td>0.852440</td>\n",
       "      <td>1</td>\n",
       "      <td>0</td>\n",
       "      <td>0</td>\n",
       "      <td>0</td>\n",
       "      <td>0</td>\n",
       "      <td>1</td>\n",
       "      <td>0</td>\n",
       "    </tr>\n",
       "  </tbody>\n",
       "</table>\n",
       "<p>5 rows × 21 columns</p>\n",
       "</div>"
      ],
      "text/plain": [
       "      RowNumber  CreditScore  Gender       Age  Tenure   Balance  \\\n",
       "4319       4320        0.518       0  0.216216     0.7  0.560765   \n",
       "9444       9445        0.462       0  0.310811     0.2  0.509823   \n",
       "9468       9469        0.526       1  0.364865     0.9  0.569017   \n",
       "4088       4089        0.810       0  0.297297     0.2  0.547756   \n",
       "2763       2764        0.712       1  0.391892     0.6  0.480760   \n",
       "\n",
       "      NumOfProducts  HasCrCard  IsActiveMember  EstimatedSalary  ...  \\\n",
       "4319       0.333333          1               0         0.231297  ...   \n",
       "9444       0.333333          1               1         0.220993  ...   \n",
       "9468       0.333333          1               0         0.173707  ...   \n",
       "4088       0.333333          0               0         0.883869  ...   \n",
       "2763       0.000000          1               1         0.704028  ...   \n",
       "\n",
       "      Complain  Satisfaction Score  Point Earned  Card Type_DIAMOND  \\\n",
       "4319         0                0.50      0.688990                  1   \n",
       "9444         0                0.25      0.435868                  0   \n",
       "9468         0                0.50      0.599319                  0   \n",
       "4088         0                0.00      0.317821                  0   \n",
       "2763         0                1.00      0.852440                  1   \n",
       "\n",
       "      Card Type_GOLD  Card Type_PLATINUM  Card Type_SILVER  Geography_France  \\\n",
       "4319               0                   0                 0                 0   \n",
       "9444               0                   0                 1                 0   \n",
       "9468               0                   0                 1                 0   \n",
       "4088               0                   0                 1                 0   \n",
       "2763               0                   0                 0                 0   \n",
       "\n",
       "      Geography_Germany  Geography_Spain  \n",
       "4319                  0                1  \n",
       "9444                  1                0  \n",
       "9468                  1                0  \n",
       "4088                  1                0  \n",
       "2763                  1                0  \n",
       "\n",
       "[5 rows x 21 columns]"
      ]
     },
     "execution_count": 51,
     "metadata": {},
     "output_type": "execute_result"
    }
   ],
   "source": [
    "df2.sample(5)"
   ]
  },
  {
   "cell_type": "code",
   "execution_count": 52,
   "id": "90d12a25",
   "metadata": {},
   "outputs": [],
   "source": [
    "# Train test split\n",
    "X = df2.drop('Exited',axis='columns')\n",
    "y = df2['Exited']\n",
    "\n",
    "from sklearn.model_selection import train_test_split\n",
    "X_train, X_test, y_train, y_test = train_test_split(X,y,test_size=0.2,random_state=5)"
   ]
  },
  {
   "cell_type": "code",
   "execution_count": 53,
   "id": "53823604",
   "metadata": {},
   "outputs": [
    {
     "data": {
      "text/plain": [
       "(8000, 20)"
      ]
     },
     "execution_count": 53,
     "metadata": {},
     "output_type": "execute_result"
    }
   ],
   "source": [
    "X_train.shape"
   ]
  },
  {
   "cell_type": "code",
   "execution_count": 54,
   "id": "d9a4ffa9",
   "metadata": {},
   "outputs": [
    {
     "data": {
      "text/plain": [
       "(2000, 20)"
      ]
     },
     "execution_count": 54,
     "metadata": {},
     "output_type": "execute_result"
    }
   ],
   "source": [
    "# we need number of columns to be used for the model here it's 20\n",
    "X_test.shape # len(X_train.columns)"
   ]
  },
  {
   "cell_type": "markdown",
   "id": "d26717f3",
   "metadata": {},
   "source": [
    "# Build a model (ANN) in tensorflow/keras\n",
    "three layers with 20, 15 and 1 units (or think neurons) in each. The activation function used here is Rectified Linear Unit (ReLU). This model is a feedforward neural network with one input layer, two hidden layers with ReLU activation, and an output layer with a sigmoid activation function which is suitable for a binary classification task."
   ]
  },
  {
   "cell_type": "code",
   "execution_count": 58,
   "id": "0af574a3",
   "metadata": {},
   "outputs": [
    {
     "name": "stdout",
     "output_type": "stream",
     "text": [
      "63/63 [==============================] - 0s 910us/step - loss: 0.0106 - accuracy: 0.9990\n"
     ]
    },
    {
     "data": {
      "text/plain": [
       "[0.010599978268146515, 0.9990000128746033]"
      ]
     },
     "execution_count": 58,
     "metadata": {},
     "output_type": "execute_result"
    }
   ],
   "source": [
    "# Evaluate the model on test data\n",
    "model.evaluate(X_test, y_test)"
   ]
  },
  {
   "cell_type": "code",
   "execution_count": 59,
   "id": "2a858a07",
   "metadata": {},
   "outputs": [
    {
     "name": "stdout",
     "output_type": "stream",
     "text": [
      "63/63 [==============================] - 0s 859us/step\n"
     ]
    },
    {
     "data": {
      "text/plain": [
       "array([[0.00031399],\n",
       "       [0.00229247],\n",
       "       [0.00033348],\n",
       "       [0.0004809 ],\n",
       "       [0.00063132]], dtype=float32)"
      ]
     },
     "execution_count": 59,
     "metadata": {},
     "output_type": "execute_result"
    }
   ],
   "source": [
    "# Show predicted y \n",
    "yp = model.predict(X_test)\n",
    "yp[:5]"
   ]
  },
  {
   "cell_type": "code",
   "execution_count": 65,
   "id": "546feeff",
   "metadata": {},
   "outputs": [],
   "source": [
    "# transform predicted y to 1 dimension and convert values to 0 and 1 \n",
    "y_pred = []\n",
    "for element in yp:\n",
    "    if element > 0.5:\n",
    "        y_pred.append(1)\n",
    "    else:\n",
    "        y_pred.append(0)"
   ]
  },
  {
   "cell_type": "code",
   "execution_count": 61,
   "id": "88e92b3c",
   "metadata": {},
   "outputs": [
    {
     "data": {
      "text/plain": [
       "[0, 0, 0, 0, 0, 0, 0, 1, 0, 1]"
      ]
     },
     "execution_count": 61,
     "metadata": {},
     "output_type": "execute_result"
    }
   ],
   "source": [
    "y_pred[:10]"
   ]
  },
  {
   "cell_type": "code",
   "execution_count": 62,
   "id": "f5426f38",
   "metadata": {},
   "outputs": [
    {
     "data": {
      "text/plain": [
       "7054    0\n",
       "442     0\n",
       "3954    0\n",
       "2288    0\n",
       "3196    0\n",
       "6178    0\n",
       "8351    0\n",
       "5658    1\n",
       "2065    0\n",
       "413     1\n",
       "Name: Exited, dtype: int64"
      ]
     },
     "execution_count": 62,
     "metadata": {},
     "output_type": "execute_result"
    }
   ],
   "source": [
    "# now if we look at test data we see how good the prediction above is\n",
    "y_test[:10]"
   ]
  },
  {
   "cell_type": "code",
   "execution_count": 63,
   "id": "4eb0a8db",
   "metadata": {},
   "outputs": [
    {
     "name": "stdout",
     "output_type": "stream",
     "text": [
      "              precision    recall  f1-score   support\n",
      "\n",
      "           0       1.00      1.00      1.00      1595\n",
      "           1       1.00      1.00      1.00       405\n",
      "\n",
      "    accuracy                           1.00      2000\n",
      "   macro avg       1.00      1.00      1.00      2000\n",
      "weighted avg       1.00      1.00      1.00      2000\n",
      "\n"
     ]
    }
   ],
   "source": [
    "from sklearn.metrics import confusion_matrix , classification_report\n",
    "\n",
    "print(classification_report(y_test,y_pred))"
   ]
  },
  {
   "cell_type": "code",
   "execution_count": 64,
   "id": "d01a36bb",
   "metadata": {},
   "outputs": [
    {
     "data": {
      "text/plain": [
       "Text(95.72222222222221, 0.5, 'Truth')"
      ]
     },
     "execution_count": 64,
     "metadata": {},
     "output_type": "execute_result"
    },
    {
     "data": {
      "image/png": "[encoded data removed]",
      "text/plain": [
       "<Figure size 1000x700 with 2 Axes>"
      ]
     },
     "metadata": {},
     "output_type": "display_data"
    }
   ],
   "source": [
    "import seaborn as sn\n",
    "cm = tf.math.confusion_matrix(labels=y_test,predictions=y_pred)\n",
    "\n",
    "plt.figure(figsize = (10,7))\n",
    "sn.heatmap(cm, annot=True, fmt='d')\n",
    "plt.xlabel('Predicted')\n",
    "plt.ylabel('Truth')"
   ]
  },
  {
   "cell_type": "markdown",
   "id": "11a994c1",
   "metadata": {},
   "source": [
    "# explaination of the confusion matrix above\n",
    "404 times the model predicted 1 correctly and 1594 times it predicted 0 correctly which means it can tell if the client is leaving or staying. The rong predictions are 1 for both loyal and exiting customers. if you want to see the accuracy you can use the following:"
   ]
  },
  {
   "cell_type": "code",
   "execution_count": 66,
   "id": "22384b3e",
   "metadata": {},
   "outputs": [
    {
     "data": {
      "text/plain": [
       "1.0"
      ]
     },
     "execution_count": 66,
     "metadata": {},
     "output_type": "execute_result"
    }
   ],
   "source": [
    "# accuracy\n",
    "round((404+1594)/(404+1594+1+1),2)"
   ]
  },
  {
   "cell_type": "code",
   "execution_count": 67,
   "id": "65b90bbb",
   "metadata": {},
   "outputs": [
    {
     "data": {
      "text/plain": [
       "1.0"
      ]
     },
     "execution_count": 67,
     "metadata": {},
     "output_type": "execute_result"
    }
   ],
   "source": [
    "# Precision for 0 class. i.e. Precision for customers who did not churn\n",
    "round(1594/(1594+1),2)"
   ]
  },
  {
   "cell_type": "code",
   "execution_count": 68,
   "id": "e05e3435",
   "metadata": {},
   "outputs": [
    {
     "data": {
      "text/plain": [
       "1.0"
      ]
     },
     "execution_count": 68,
     "metadata": {},
     "output_type": "execute_result"
    }
   ],
   "source": [
    "# Recall for 0 class \n",
    "round(1594/(1594+1),2)\n"
   ]
  },
  {
   "cell_type": "code",
   "execution_count": 69,
   "id": "5bdb5701",
   "metadata": {},
   "outputs": [
    {
     "data": {
      "text/plain": [
       "1.0"
      ]
     },
     "execution_count": 69,
     "metadata": {},
     "output_type": "execute_result"
    }
   ],
   "source": [
    "# Recall for 1 class \n",
    "round(404/(404+1),2)"
   ]
  },
  {
   "cell_type": "code",
   "execution_count": null,
   "id": "744d0c96",
   "metadata": {},
   "outputs": [],
   "source": []
  }
 ],
 "metadata": {
  "kernelspec": {
   "display_name": "Python 3 (ipykernel)",
   "language": "python",
   "name": "python3"
  },
  "language_info": {
   "codemirror_mode": {
    "name": "ipython",
    "version": 3
   },
   "file_extension": ".py",
   "mimetype": "text/x-python",
   "name": "python",
   "nbconvert_exporter": "python",
   "pygments_lexer": "ipython3",
   "version": "3.9.13"
  }
 },
 "nbformat": 4,
 "nbformat_minor": 5
}
